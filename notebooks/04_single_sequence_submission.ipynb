{
  "nbformat": 4,
  "nbformat_minor": 0,
  "metadata": {
    "colab": {
      "name": "04_single-sequence-submission.ipynb",
      "provenance": []
    },
    "kernelspec": {
      "name": "python3",
      "display_name": "Python 3"
    },
    "language_info": {
      "name": "python"
    }
  },
  "cells": [
    {
      "cell_type": "markdown",
      "metadata": {
        "id": "kcZJGrEvIwRQ"
      },
      "source": [
        "# Single Sequence Submission\n",
        "\n",
        "To make predictions with Deepred-Mt, just press the play button on the upper left of each cell."
      ]
    },
    {
      "cell_type": "code",
      "metadata": {
        "cellView": "form",
        "id": "_Q2JlXyTJTsv"
      },
      "source": [
        "#@title 1. Deepred-Mt installation (press once)\n",
        "!pip install -U \"deepredmt @ git+https://github.com/aedera/deepredmt.git\" > /dev/null\n",
        "\n",
        "import os\n",
        "from IPython.display import clear_output\n",
        "from google.colab import files\n",
        "\n",
        "os.environ['TF_CPP_MIN_LOG_LEVEL'] = '3' "
      ],
      "execution_count": null,
      "outputs": []
    },
    {
      "cell_type": "code",
      "metadata": {
        "id": "LzMw7Z0EImIA"
      },
      "source": [
        "\n",
        "#@title 2. Enter a protein-coding DNA sequence { vertical-output: true, display-mode: \"form\" }\n",
        "seq = 'ATGGAACTTTCTCCCCGAGCTGCGGAACTAACAAGTCTATTAGAAAGTCGAATTAGCAACTTTTACACCAATTTTCAAGTGGATGAGATCGGTCGAGTGGTCTCAGTTGGAGATGGGATTGCACGTGTTTATGGATTGAA' #@param {type:\"string\"}\n",
        "#@markdown ---\n",
        "\n",
        "print(\"Making prediction....\", flush=True)\n",
        "\n",
        "# save input sequence in a file\n",
        "f = open('seq.tsv', 'w')\n",
        "f.write(\">seq\\n\"+seq)\n",
        "f.close()\n",
        "\n",
        "# call Deepred-mt\n",
        "!echo -e \"Pos\\tUpstream\\tTarget\\tDownstream\\tScore\" > seq.pred\n",
        "!deepredmt seq.tsv | sed 's/seq!//g' >> seq.pred\n",
        "\n",
        "clear_output()\n",
        "\n",
        "# show result\n",
        "!cat seq.pred | column -t"
      ],
      "execution_count": null,
      "outputs": []
    },
    {
      "cell_type": "code",
      "metadata": {
        "cellView": "form",
        "id": "tUNj9TlXT97K"
      },
      "source": [
        "#@title 3. Download prediction (optional)\n",
        "files.download('seq.pred')"
      ],
      "execution_count": null,
      "outputs": []
    }
  ]
}