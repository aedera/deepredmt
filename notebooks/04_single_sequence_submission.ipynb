{
  "nbformat": 4,
  "nbformat_minor": 0,
  "metadata": {
    "colab": {
      "name": "04_single_sequence_submission.ipynb",
      "provenance": [],
      "collapsed_sections": []
    },
    "kernelspec": {
      "name": "python3",
      "display_name": "Python 3"
    },
    "language_info": {
      "name": "python"
    }
  },
  "cells": [
    {
      "cell_type": "markdown",
      "metadata": {
        "id": "kcZJGrEvIwRQ"
      },
      "source": [
        "# Single Sequence Submission\n",
        "\n",
        "To make predictions with Deepred-Mt, just press the two play buttons on the left of cells in sequential order.\n",
        "\n",
        "**Note:** For submitting multiple sequences, please use this [link](https://colab.research.google.com/github/aedera/deepredmt/blob/main/notebooks/05_fasta_submission.ipynb)."
      ]
    },
    {
      "cell_type": "code",
      "metadata": {
        "id": "_Q2JlXyTJTsv",
        "cellView": "form"
      },
      "source": [
        "#@title 1. Initialize Deepred-Mt (press once) \n",
        "#@markdown This step can take up to 5 minutes.\n",
        "\n",
        "# remove packages to avoid conflicts\n",
        "!pip uninstall -y -q yellowbrick \\\n",
        "                     xarray-einstats \\\n",
        "                     imbalanced-learn \\\n",
        "                     datascience \\\n",
        "                     albumentations \\\n",
        "                     arviz \\\n",
        "                     pymc3\n",
        "\n",
        "!pip install -U \"deepredmt @ git+https://github.com/aedera/deepredmt.git\" > /dev/null\n",
        "\n",
        "import os\n",
        "from IPython.display import clear_output\n",
        "from google.colab import files\n",
        "\n",
        "os.environ['TF_CPP_MIN_LOG_LEVEL'] = '3' "
      ],
      "execution_count": null,
      "outputs": []
    },
    {
      "cell_type": "code",
      "metadata": {
        "id": "LzMw7Z0EImIA"
      },
      "source": [
        "tmpf = 'seq.tsv'\n",
        "outf = \"result.tsv\"\n",
        "\n",
        "#@title 2. Enter a protein-coding DNA sequence { vertical-output: true, display-mode: \"form\" }\n",
        "seq = 'ATGATTAAGTATGGCTGGTACCATTTCGATGTGTTTCGATTCTTCCGAACAAGAGAGGTTTGATGCTTCTGAATCCATTGTATTAATTCCACTTCCTACTCGCAGTATGCTCTTTATGATCTCGGCTCATGATTCAATTGCCATGTATTTAGCTATTGAGCCTCAAAGTTTATGTTTTTATGTGATGGCAGCATCAAAAAGAAAGTCTGAATTTTCCACGGAAGCCGGCTCGAAATATTTGATCTTAGGTGCATTTCCCTCTGGAATCTTACTGTTTGGTTGTTCCATGATCTATGGGTCTACTGGGGCTACCCACTTCGATCAATTAGCCAAGATTTTGACCGGATACGAAATCACTGGTGCTCGATCTAGTGGTATTTTTATGGGGATTCTATTTATCGCTGTAGGATTCCTATTCAAGATCACTGCAGTTCCTTTTCATATGTGGGCACCTGATATCTATGAGGGTTCACCCACCCCGGTTACAGCATTCCTTTCTATTGCGCCTAAAATTTCTATTTCTGCTAATATTTCACGTGTTTCTATTTATGGTTCCTATGGAGCTACATTGCAACAAATCTTCTTTTTCTGCAGCATTGCTTCT' #@param {type:\"string\"}\n",
        "#@markdown ---\n",
        "\n",
        "print(\"Making prediction....\", flush=True)\n",
        "\n",
        "# save input sequence in a file\n",
        "f = open(tmpf, 'w')\n",
        "f.write(\">seq\\n\"+seq)\n",
        "f.close()\n",
        "\n",
        "# call Deepred-mt\n",
        "!echo -e \"Pos\\tUpstream\\tTarget\\tDownstream\\tScore\" > {outf}\n",
        "!deepredmt seq.tsv | sed 's/seq!//g' >> {outf}\n",
        "\n",
        "clear_output()\n",
        "#@markdown **Note:** The higher the score, the more likely the site is edited\n",
        "# show result\n",
        "!cat {outf} | column -t"
      ],
      "execution_count": null,
      "outputs": []
    }
  ]
}