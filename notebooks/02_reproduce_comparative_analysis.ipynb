{
  "nbformat": 4,
  "nbformat_minor": 0,
  "metadata": {
    "colab": {
      "name": "02_reproduce_comparative_analysis.ipynb",
      "provenance": [],
      "collapsed_sections": []
    },
    "kernelspec": {
      "name": "python3",
      "display_name": "Python 3"
    },
    "language_info": {
      "name": "python"
    }
  },
  "cells": [
    {
      "cell_type": "markdown",
      "metadata": {
        "id": "jYOS34CbTGyp"
      },
      "source": [
        "# Comparing the predictive performance of Deepred-Mt\n",
        "\n"
      ]
    },
    {
      "cell_type": "markdown",
      "metadata": {
        "id": "gESQ0jraTMxm"
      },
      "source": [
        "## Environment"
      ]
    },
    {
      "cell_type": "code",
      "metadata": {
        "id": "fFfFHpENpbJa"
      },
      "source": [
        "import numpy as np\n",
        "import sklearn.metrics\n",
        "\n",
        "import matplotlib.pyplot as plt\n",
        "import sklearn.metrics as metrics"
      ],
      "execution_count": 1,
      "outputs": []
    },
    {
      "cell_type": "markdown",
      "metadata": {
        "id": "Kcz6jgHPTQM1"
      },
      "source": [
        "### Deepred-Mt installation"
      ]
    },
    {
      "cell_type": "code",
      "metadata": {
        "colab": {
          "base_uri": "https://localhost:8080/"
        },
        "id": "ZD-2nT2rqdwL",
        "outputId": "8277dcc5-a568-4fcd-bf73-9c46deb7596f"
      },
      "source": [
        "!pip install -U \"deepredmt @ git+https://github.com/aedera/deepredmt.git\" > /dev/null"
      ],
      "execution_count": 2,
      "outputs": [
        {
          "output_type": "stream",
          "text": [
            "  Running command git clone -q https://github.com/aedera/deepredmt.git /tmp/pip-install-ifnj0j3a/deepredmt\n"
          ],
          "name": "stdout"
        }
      ]
    },
    {
      "cell_type": "markdown",
      "metadata": {
        "id": "jlSV5kcQTbDN"
      },
      "source": [
        "## Make predictions"
      ]
    },
    {
      "cell_type": "markdown",
      "metadata": {
        "id": "WnqJ_RjbTcYz"
      },
      "source": [
        "To predict C-to-U editing sites, we will download data that include nucleotide windows extracted from mitochondrial protein-coding genes of diverse plants."
      ]
    },
    {
      "cell_type": "code",
      "metadata": {
        "colab": {
          "base_uri": "https://localhost:8080/"
        },
        "id": "Xz0OQHrvqfXC",
        "outputId": "fd47810f-de9e-4355-b854-e3357b59d861"
      },
      "source": [
        "!wget https://raw.githubusercontent.com/aedera/deepredmt/main/data/training-data.tsv.gz"
      ],
      "execution_count": 3,
      "outputs": [
        {
          "output_type": "stream",
          "text": [
            "--2021-05-21 16:29:08--  https://raw.githubusercontent.com/aedera/deepredmt/main/data/training-data.tsv.gz\n",
            "Resolving raw.githubusercontent.com (raw.githubusercontent.com)... 185.199.109.133, 185.199.110.133, 185.199.111.133, ...\n",
            "Connecting to raw.githubusercontent.com (raw.githubusercontent.com)|185.199.109.133|:443... connected.\n",
            "HTTP request sent, awaiting response... 200 OK\n",
            "Length: 1498835 (1.4M) [application/octet-stream]\n",
            "Saving to: ‘training-data.tsv.gz.2’\n",
            "\n",
            "training-data.tsv.g 100%[===================>]   1.43M  --.-KB/s    in 0.08s   \n",
            "\n",
            "2021-05-21 16:29:08 (18.9 MB/s) - ‘training-data.tsv.gz.2’ saved [1498835/1498835]\n",
            "\n"
          ],
          "name": "stdout"
        }
      ]
    },
    {
      "cell_type": "markdown",
      "metadata": {
        "id": "c8Nt2sH2TnIr"
      },
      "source": [
        "As it is explained [here](https://github.com/aedera/deepredmt/blob/main/data/README.md), this data is composed of eleven fields, where nucleotide windows are stored in the fields #4, #5, and #6."
      ]
    },
    {
      "cell_type": "code",
      "metadata": {
        "colab": {
          "base_uri": "https://localhost:8080/"
        },
        "id": "kbdaFkJlcqne",
        "outputId": "aefbafd3-0c43-4a00-bd6f-7d1308c1802b"
      },
      "source": [
        "!zcat training-data.tsv.gz | \\\n",
        "  cut -f4,5,6 | \\\n",
        "  tr -d '\\t' > wins.tsv\n",
        "\n",
        "!shuf wins.tsv | head -10 | column -t"
      ],
      "execution_count": 4,
      "outputs": [
        {
          "output_type": "stream",
          "text": [
            "AAATCCCTTTTCTTAATACCCETATTCECCETTCATCCGGA\n",
            "AGAGAAAGTCTTTTTTATTCCTTTGTCTEGAACTTEGTGAA\n",
            "CAAAGCCCGCTTTCTTCGCTCCGCGAATGAGAGAGAAACTC\n",
            "TCAAGATCAAATCTGTTTATCAAAGTGCTTCTCEGATTGCT\n",
            "CATAATTGGGAGAAGCTCATCCGAAACTAGAGCTAGAAACG\n",
            "CGAGTTATCTACGGACCCTCCCTGCAGTGCGCCCCTCCTTG\n",
            "ATAGTCAAAATAAGAAGGGACGTGCTATATCCGAAACGTAC\n",
            "GTATCTACTCGTTACGGAATCGTGGGTGTCAAGGTTTGGAT\n",
            "TEATTCCTATEGTATATCGTCGTCACGCCCTTAATGATAGG\n",
            "GAGCCATTGAAGCAGCGCGTCGGGCTAEAATCGGACAATTC\n"
          ],
          "name": "stdout"
        }
      ]
    },
    {
      "cell_type": "markdown",
      "metadata": {
        "id": "dFsOTB7WUCYE"
      },
      "source": [
        "Now, we will use Deepred-Mt to predict which of the central positions of these nucleotide windows are edited."
      ]
    },
    {
      "cell_type": "code",
      "metadata": {
        "id": "dXXNeUaDMpYB",
        "colab": {
          "base_uri": "https://localhost:8080/"
        },
        "outputId": "ba72174c-6dcc-4f22-93de-e3c98f4103cc"
      },
      "source": [
        "!deepredmt wins.tsv > deepredmt-pred.tsv"
      ],
      "execution_count": 5,
      "outputs": [
        {
          "output_type": "stream",
          "text": [
            "2021-05-21 16:29:09.184406: I tensorflow/stream_executor/platform/default/dso_loader.cc:49] Successfully opened dynamic library libcudart.so.11.0\n",
            "2021-05-21 16:29:12.980906: I tensorflow/compiler/jit/xla_cpu_device.cc:41] Not creating XLA devices, tf_xla_enable_xla_devices not set\n",
            "2021-05-21 16:29:12.982039: I tensorflow/stream_executor/platform/default/dso_loader.cc:49] Successfully opened dynamic library libcuda.so.1\n",
            "2021-05-21 16:29:12.994026: E tensorflow/stream_executor/cuda/cuda_driver.cc:328] failed call to cuInit: CUDA_ERROR_NO_DEVICE: no CUDA-capable device is detected\n",
            "2021-05-21 16:29:12.994074: I tensorflow/stream_executor/cuda/cuda_diagnostics.cc:156] kernel driver does not appear to be running on this host (2ffe8e9a9e7e): /proc/driver/nvidia/version does not exist\n",
            "2021-05-21 16:29:12.994629: I tensorflow/compiler/jit/xla_gpu_device.cc:99] Not creating XLA devices, tf_xla_enable_xla_devices not set\n",
            "2021-05-21 16:29:20.760337: I tensorflow/compiler/mlir/mlir_graph_optimization_pass.cc:116] None of the MLIR optimization passes are enabled (registered 2)\n",
            "2021-05-21 16:29:20.760816: I tensorflow/core/platform/profile_utils/cpu_utils.cc:112] CPU Frequency: 2299995000 Hz\n"
          ],
          "name": "stdout"
        }
      ]
    },
    {
      "cell_type": "markdown",
      "metadata": {
        "id": "vNPyaOsDUofg"
      },
      "source": [
        "## Comparing the predictive performance of Deepred-Mt"
      ]
    },
    {
      "cell_type": "markdown",
      "metadata": {
        "id": "oAHzVrniU4sT"
      },
      "source": [
        "Next, we will compare Deepred-Mt predictions with the C-to-U editing sites previously identified for the downloaded sequences, which are stored in the field #9. In addition, we will also include in this comparison the predictive performance of two state-of-the-art methods to predict editing sites:\n",
        "\n",
        "* [PREPACT](http://www.prepact.de/prepact-main.php)\n",
        "* [PREP-Mt](http://prep.unl.edu/)\n",
        "\n",
        "The predictions of both methods are already available in the fields #10 and #11.\n"
      ]
    },
    {
      "cell_type": "code",
      "metadata": {
        "id": "BVjqOO3SrzW6"
      },
      "source": [
        "!paste <(zcat training-data.tsv.gz | cut -f9,10,11) deepredmt-pred.tsv > predictions.tsv"
      ],
      "execution_count": 6,
      "outputs": []
    },
    {
      "cell_type": "markdown",
      "metadata": {
        "id": "TPUo1VGZePMz"
      },
      "source": [
        "\n",
        "To measure the predictive performance, we can use precision and recall, which are standard metrics often used in practice. You can find more information regarding these metrics in this [notebook](https://colab.research.google.com/github/aedera/deepredmt/blob/main/notebooks/01_prediction_from_fasta.ipynb)."
      ]
    },
    {
      "cell_type": "code",
      "metadata": {
        "id": "BoP-chxQUyfo"
      },
      "source": [
        "# Read predictions\n",
        "preds = np.loadtxt('predictions.tsv')\n",
        "y_true, y_prepact, y_prepmt, y_deepredmt = preds[:,0], preds[:,1], preds[:,2], preds[:,3]\n",
        "\n",
        "# evaluate performance\n",
        "prepact_pre, prepact_rec, _ = metrics.precision_recall_curve(y_true, y_prepact)\n",
        "prepmt_pre, prepmt_rec, _ = metrics.precision_recall_curve(y_true, y_prepmt)\n",
        "deepredmt_pre, deepredmt_rec, _ = metrics.precision_recall_curve(y_true, y_deepredmt)"
      ],
      "execution_count": 7,
      "outputs": []
    },
    {
      "cell_type": "markdown",
      "metadata": {
        "id": "gFsuvskwtJEh"
      },
      "source": [
        "Now, we can compare the precision and recall obtained for each method."
      ]
    },
    {
      "cell_type": "code",
      "metadata": {
        "colab": {
          "base_uri": "https://localhost:8080/",
          "height": 501
        },
        "id": "Bhdl0PjHU2Ct",
        "outputId": "997491d4-2ef0-451b-b949-2b8114d3cb3e"
      },
      "source": [
        "# Plot results\n",
        "fig, ax = plt.subplots(figsize=(8, 8))\n",
        "\n",
        "# draw curves\n",
        "plt.plot(prepact_rec, prepact_pre, c='tab:blue', label='PREPACT')\n",
        "plt.plot(prepmt_rec, prepmt_pre, c='tab:red', label='PREP-Mt')\n",
        "plt.plot(deepredmt_rec, deepredmt_pre, c='black', label='Deepred-Mt')\n",
        "\n",
        "plt.xlabel('Recall')\n",
        "plt.ylabel('Precision')\n",
        "plt.legend()\n",
        "\n",
        "ax.set_xlim([0.5, 1])\n",
        "ax.set_ylim([0.5, 1])\n",
        "plt.grid(True)\n",
        "\n",
        "plt.show()"
      ],
      "execution_count": 8,
      "outputs": [
        {
          "output_type": "display_data",
          "data": {
            "image/png": "[encoded data removed]",
            "text/plain": [
              "<Figure size 576x576 with 1 Axes>"
            ]
          },
          "metadata": {
            "tags": [],
            "needs_background": "light"
          }
        }
      ]
    }
  ]
}