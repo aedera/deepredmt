{
  "nbformat": 4,
  "nbformat_minor": 0,
  "metadata": {
    "colab": {
      "name": "02_reproduce_comparative_analysis.ipynb",
      "provenance": []
    },
    "kernelspec": {
      "name": "python3",
      "display_name": "Python 3"
    },
    "language_info": {
      "name": "python"
    }
  },
  "cells": [
    {
      "cell_type": "markdown",
      "metadata": {
        "id": "jYOS34CbTGyp"
      },
      "source": [
        "# Predict C-to-U editing sites from nucleotide windows\n",
        "\n"
      ]
    },
    {
      "cell_type": "markdown",
      "metadata": {
        "id": "gESQ0jraTMxm"
      },
      "source": [
        "## Environment"
      ]
    },
    {
      "cell_type": "code",
      "metadata": {
        "id": "fFfFHpENpbJa"
      },
      "source": [
        "import numpy as np\n",
        "import sklearn.metrics\n",
        "\n",
        "import matplotlib.pyplot as plt"
      ],
      "execution_count": 1,
      "outputs": []
    },
    {
      "cell_type": "markdown",
      "metadata": {
        "id": "Kcz6jgHPTQM1"
      },
      "source": [
        "## Deepred-Mt installation"
      ]
    },
    {
      "cell_type": "code",
      "metadata": {
        "colab": {
          "base_uri": "https://localhost:8080/"
        },
        "id": "ZD-2nT2rqdwL",
        "outputId": "97d10268-f683-48a5-96eb-a96c38cd6616"
      },
      "source": [
        "!pip install -U \"deepredmt @ git+https://github.com/aedera/deepredmt.git\" > /dev/null"
      ],
      "execution_count": 2,
      "outputs": [
        {
          "output_type": "stream",
          "text": [
            "  Running command git clone -q https://github.com/aedera/deepredmt.git /tmp/pip-install-zmq791rr/deepredmt\n"
          ],
          "name": "stdout"
        }
      ]
    },
    {
      "cell_type": "markdown",
      "metadata": {
        "id": "jlSV5kcQTbDN"
      },
      "source": [
        "## Make predictions"
      ]
    },
    {
      "cell_type": "markdown",
      "metadata": {
        "id": "WnqJ_RjbTcYz"
      },
      "source": [
        "To make predictions, we will use the nucleotide windows available in the data used to train Deepred-Mt."
      ]
    },
    {
      "cell_type": "code",
      "metadata": {
        "colab": {
          "base_uri": "https://localhost:8080/"
        },
        "id": "Xz0OQHrvqfXC",
        "outputId": "76136f15-1ba7-44a6-cdc1-705ad330d980"
      },
      "source": [
        "!wget https://raw.githubusercontent.com/aedera/deepredmt/main/data/training-data.tsv.gz"
      ],
      "execution_count": 3,
      "outputs": [
        {
          "output_type": "stream",
          "text": [
            "--2021-04-22 18:55:27--  https://raw.githubusercontent.com/aedera/deepredmt/main/data/training-data.tsv.gz\n",
            "Resolving raw.githubusercontent.com (raw.githubusercontent.com)... 185.199.110.133, 185.199.108.133, 185.199.109.133, ...\n",
            "Connecting to raw.githubusercontent.com (raw.githubusercontent.com)|185.199.110.133|:443... connected.\n",
            "HTTP request sent, awaiting response... 200 OK\n",
            "Length: 3026591 (2.9M) [application/octet-stream]\n",
            "Saving to: ‘training-data.tsv.gz.1’\n",
            "\n",
            "training-data.tsv.g 100%[===================>]   2.89M  --.-KB/s    in 0.1s    \n",
            "\n",
            "2021-04-22 18:55:28 (25.1 MB/s) - ‘training-data.tsv.gz.1’ saved [3026591/3026591]\n",
            "\n"
          ],
          "name": "stdout"
        }
      ]
    },
    {
      "cell_type": "markdown",
      "metadata": {
        "id": "c8Nt2sH2TnIr"
      },
      "source": [
        "As it is explained in the [README](https://github.com/aedera/deepredmt#datasets), these data is composed of ten fields."
      ]
    },
    {
      "cell_type": "code",
      "metadata": {
        "colab": {
          "base_uri": "https://localhost:8080/"
        },
        "id": "1Vs22UjaL7-W",
        "outputId": "79f2557d-42f1-4a0a-eeee-fd67bd59c7cc"
      },
      "source": [
        "!zcat training-data.tsv.gz | shuf | head -10 | column -t"
      ],
      "execution_count": 4,
      "outputs": [
        {
          "output_type": "stream",
          "text": [
            "Helianthus_annuus!rps03!160         rps03!160  1  ATCTGAATCGTAGTTCAGAT  T  CAAGTEGGTTCAGTGATTAT  TCA  1.0000  1  0.00\n",
            "Ginkgo_biloba!ccmFc!123             ccmFc!123  3  ATGGTCCAACEACAGAACTT  C  TTCTTETTCATEAETTEEAT  TTC  0.0154  0  0.00\n",
            "Physcomitrella_patens!nad7!1265     nad7!1268  2  TGGTACTCAAGATATTGTTT  T  TGGAGAGGTAGATAGATAGA  TTT  0.9995  1  0.00\n",
            "Phoenix_dactylifera!atp1!1097       atp1!1109  2  TGCGTTACCCGTCATTGAAA  C  ACAAGCTGGAGACGTATCGG  ACA  0.0003  0  0.00\n",
            "Ginkgo_biloba!nad7!1017             nad7!1017  3  CGATGTCAAATGAAACTATC  C  ATGGAATCCTEAATTCACCA  TCC  0.0064  0  0.00\n",
            "Zea_mays!nad5!1125                  nad5!1134  3  GTCTTTCACTTAATGAATCA  C  GCGTTTTTCAAAGCATTACT  CAC  0.0040  0  0.00\n",
            "Liriodendron_tulipifera!rpl10!376   rpl10!397  4  CATEGGACAGGTEGGAGTTC  C  TACCTTCTTGGGACTCCATG  CTA  0.0037  0  0.00\n",
            "Phoenix_dactylifera!nad5!1736       nad5!1745  2  AGCGGATCAATTCCAACGAG  C  CTTTCAAACTAGTACTTTTT  GCC  0.0002  0  0.00\n",
            "Liriodendron_tulipifera!nad6-1!287  nad6!290   2  AGTTEATATAGGAGCTATTG  C  CGETTEATTCCTATTCGTGG  GCC  0.0000  0  0.00\n",
            "Malus_domestica!atp4!565            atp4!625   1  ACGATCTAGTCACAGGGTTT  C  ACTTETCAGTGAGCGAAAGA  CAC  0.0015  0  0.00\n"
          ],
          "name": "stdout"
        }
      ]
    },
    {
      "cell_type": "markdown",
      "metadata": {
        "id": "OhPE8QN5T1AE"
      },
      "source": [
        "From these data, we will only use the nucleotide windows with either cytidines (C) or editing sites (E) in their center positions (field #5)."
      ]
    },
    {
      "cell_type": "code",
      "metadata": {
        "colab": {
          "base_uri": "https://localhost:8080/"
        },
        "id": "wRh-jrWwL_WG",
        "outputId": "09b7bce6-9a50-40aa-e8f7-505ddd425c7c"
      },
      "source": [
        "!zcat training-data.tsv.gz | \\\n",
        "  awk -F$'\\t' '($$5 == \"C\" || $$5 == \"E\")' > reduced-data.tsv\n",
        "  \n",
        "!shuf reduced-data.tsv | head -10 | column -t"
      ],
      "execution_count": 5,
      "outputs": [
        {
          "output_type": "stream",
          "text": [
            "Malus_domestica!ccmFn!469      ccmFn!490   1  AAAGCCATAATGTCTCAAAA  C  GAGGAGGCCATAGAGAAACT  CGA  0.0000  0  0.00\n",
            "Silene_conica!atp1!1172        atp1!1184   2  TGGACAAATCTGTTTGGAAA  C  AGAGCTTTTTTATAGAGGAA  ACA  0.0000  0  0.00\n",
            "Rhazya_stricta!rps03!1493      rps03!1931  2  TCAAGACATCTCTTTTCAAC  E  GAGGAACAAAACAAGATCAT  CEG  0.9191  1  0.86\n",
            "Allium_cepa!atp9!361           atp9!394    1  AGATGCTTAAAAGCGCTTTG  C  CTTACCTATGATGAAATTCC  CCT  0.0001  0  0.00\n",
            "Silene_conica!ccmFn!1024       ccmFn!1129  1  GGATTGTGGCACTCTACTCG  C  CGGCAATGCGTAAGGATGCC  CCG  0.0000  0  0.00\n",
            "Allium_cepa!nad4!719           nad4!719    2  TTTACAAATATTATTAACCA  C  AGAATTTAGTGAGCGGCGCC  ACA  0.0011  0  0.00\n",
            "Nelumbo_nucifera!atp6!380      atp6!806    2  AAATGTTAAACAAAAGTTTT  E  CCCTTGCATCTEGGTCACTT  TEC  0.9648  1  1.00\n",
            "Arabidopsis_thaliana!matR!768  matR!861    3  GCCGTCTTCCTTAACAAGCC  C  TCGAGCCTTCTTTGCGCCGC  CCC  0.0006  0  0.00\n",
            "Zea_mays!cob!302               cob!302     2  CACACCTCATGTGGATCTAG  C  TTTCAACAGCGTAGAACACA  GCT  0.0006  0  0.00\n",
            "Helianthus_annuus!cox2!379     cox2!517    1  CCATATTTCCTAGTATCATC  C  EGATGTTCATTGCTATACCA  CEG  0.0000  0  0.00\n"
          ],
          "name": "stdout"
        }
      ]
    },
    {
      "cell_type": "markdown",
      "metadata": {
        "id": "45gsKN1ZdAkL"
      },
      "source": [
        "From the reduced data, we will extract the nucleotide windows (fields #4, #5, and #6). "
      ]
    },
    {
      "cell_type": "code",
      "metadata": {
        "colab": {
          "base_uri": "https://localhost:8080/"
        },
        "id": "kbdaFkJlcqne",
        "outputId": "553ea8b3-7a36-49d5-99b3-3d00a8db752b"
      },
      "source": [
        "!cat reduced-data.tsv | \\\n",
        "  cut -f4,5,6 | \\\n",
        "  tr -d '\\t' > wins.tsv\n",
        "\n",
        "!shuf wins.tsv | head -10 | column -t"
      ],
      "execution_count": 6,
      "outputs": [
        {
          "output_type": "stream",
          "text": [
            "TTACCAATTCTTATGCTAATCCTAAGAAATTCCGTTCAAGA\n",
            "GTATGTTTTTCATTGTGGTTEACCTTCATATTTTTCGTGGT\n",
            "TTAACTAAGTATCAAATTGACCGAATTATCAAAATAATAAG\n",
            "TTCGTTCCEGCTTTTCATTTCETTCTTCTCGAATCCAAAGG\n",
            "TTCGTGCEGAACCEGGTAAACGAACAAATAGGTGGTCTTTC\n",
            "CACAAAGAAGATACAGTTCACTCAACGATTGCCTTTGGGTT\n",
            "AGGTTTAGTGAGCACCATGCCGAATETCTCTACCATTTTCT\n",
            "GTTTTCCCATGTTACAACTTEEGTACCAATTCGATCGATCC\n",
            "TGATGCGCCCATTCCTATGGCCATTCCTTTAATACTTCTGG\n",
            "TCATATCGTATCGACTTTTTCGGGAAAACCGGTCTTCGGGT\n"
          ],
          "name": "stdout"
        }
      ]
    },
    {
      "cell_type": "markdown",
      "metadata": {
        "id": "dFsOTB7WUCYE"
      },
      "source": [
        "Now, we can execute Deepred-Mt using the file `training-dataset.tsv` as input."
      ]
    },
    {
      "cell_type": "code",
      "metadata": {
        "id": "dXXNeUaDMpYB"
      },
      "source": [
        "!deepredmt wins.tsv > deepredmt-pred.tsv"
      ],
      "execution_count": 7,
      "outputs": []
    },
    {
      "cell_type": "markdown",
      "metadata": {
        "id": "1dzoUohXUK_H"
      },
      "source": [
        "The output file `deepredmt-pred.tsv` contains the Deepred-Mt predictions. To facilitate downstream analyses, we can add these predictions as a new last column in the original data."
      ]
    },
    {
      "cell_type": "code",
      "metadata": {
        "colab": {
          "base_uri": "https://localhost:8080/"
        },
        "id": "y58A7yPyQuZG",
        "outputId": "565fe1b7-4eb3-4fbc-8501-75609daf599d"
      },
      "source": [
        "!paste reduced-data.tsv deepredmt-pred.tsv > all-wins.tsv\n",
        "!head -10 all-wins.tsv | column -t"
      ],
      "execution_count": 8,
      "outputs": [
        {
          "output_type": "stream",
          "text": [
            "Allium_cepa!atp1!1002  atp1!1020  3  GCTTTCCCTGGGGATGTTTT  C  TATTTACATTCCCGTCTCTT  TTC  0.0011  0  0.00  0.03\n",
            "Allium_cepa!atp1!1009  atp1!1027  1  CTGGGGATGTTTTCTATTTA  C  ATTCCCGTCTCTTAGAAAGA  CAT  0.0002  0  0.00  0.01\n",
            "Allium_cepa!atp1!1013  atp1!1031  2  GGATGTTTTCTATTTACATT  C  CCGTCTCTTAGAAAGAGCCG  TCC  0.0002  0  0.00  0.01\n",
            "Allium_cepa!atp1!1014  atp1!1032  3  GATGTTTTCTATTTACATTC  C  CGTCTCTTAGAAAGAGCCGC  TCC  0.0010  0  0.00  0.02\n",
            "Allium_cepa!atp1!1015  atp1!1033  1  ATGTTTTCTATTTACATTCC  C  GTCTCTTAGAAAGAGCCGCT  CGT  0.0000  0  0.00  0.00\n",
            "Allium_cepa!atp1!1018  atp1!1036  1  TTTTCTATTTACATTCCCGT  C  TCTTAGAAAGAGCCGCTAAA  CTC  0.0002  0  0.00  0.00\n",
            "Allium_cepa!atp1!1020  atp1!1038  3  TTCTATTTACATTCCCGTCT  C  TTAGAAAGAGCCGCTAAACG  CTC  0.0018  0  0.00  0.01\n",
            "Allium_cepa!atp1!1031  atp1!1049  2  TTCCCGTCTCTTAGAAAGAG  C  CGCTAAACGATCGGACCAGA  GCC  0.0000  0  0.00  0.00\n",
            "Allium_cepa!atp1!1032  atp1!1050  3  TCCCGTCTCTTAGAAAGAGC  C  GCTAAACGATCGGACCAGAC  GCC  0.0000  0  0.00  0.02\n",
            "Allium_cepa!atp1!1034  atp1!1052  2  CCGTCTCTTAGAAAGAGCCG  C  TAAACGATCGGACCAGACAG  GCT  0.0000  0  0.00  0.00\n"
          ],
          "name": "stdout"
        }
      ]
    },
    {
      "cell_type": "markdown",
      "metadata": {
        "id": "vNPyaOsDUofg"
      },
      "source": [
        "## Comparing the predictive performance of PREP-Mt and Deepred-Mt"
      ]
    },
    {
      "cell_type": "markdown",
      "metadata": {
        "id": "oAHzVrniU4sT"
      },
      "source": [
        "Based on these predictions. We can compare the predicive performance of Deepred-Mt with that of [PREP-Mt](http://prep.unl.edu/), a state-of-the-art method to predict editing sites. PREP-Mt predictions are already available in the field #10 in the data used above.\n"
      ]
    },
    {
      "cell_type": "markdown",
      "metadata": {
        "id": "TPUo1VGZePMz"
      },
      "source": [
        "\n",
        "To measure the predictive performance, precision and recall are standard metrics often used when the classes are imbalanced. You can find more information regarding these metrics in other [notebook](https://colab.research.google.com/github/aedera/deepredmt/blob/main/notebooks/01_prediction_from_fasta.ipynb)."
      ]
    },
    {
      "cell_type": "code",
      "metadata": {
        "id": "Im-loPN4SP3M"
      },
      "source": [
        "def performance(y_true, y_pred):                                                                                                                                                   \n",
        "    \"\"\"Calculate recall, precision, and F1.\"\"\"\n",
        "    pr = sklearn.metrics.precision_score(y_true, y_pred)\n",
        "    re = sklearn.metrics.recall_score(y_true, y_pred)\n",
        "    F1 = sklearn.metrics.f1_score(y_true, y_pred)\n",
        "\n",
        "    return pr, re, F1 "
      ],
      "execution_count": 9,
      "outputs": []
    },
    {
      "cell_type": "code",
      "metadata": {
        "colab": {
          "base_uri": "https://localhost:8080/"
        },
        "id": "BoP-chxQUyfo",
        "outputId": "3a0d4f02-881c-405b-8453-6887e9d34e12"
      },
      "source": [
        "# This command reads the columns 9, 10, 11 in the all-wins.tsv\n",
        "preds = np.loadtxt('all-wins.tsv', usecols=(8, 9, 10))\n",
        "y_true, y_prepmt, y_deepredmt = preds[:,0], preds[:,1], preds[:,2]\n",
        "\n",
        "print(y_true[0:10], y_prepmt[0:10], y_deepredmt[0:10])"
      ],
      "execution_count": 10,
      "outputs": [
        {
          "output_type": "stream",
          "text": [
            "[0. 0. 0. 0. 0. 0. 0. 0. 0. 0.] [0. 0. 0. 0. 0. 0. 0. 0. 0. 0.] [0.03 0.01 0.01 0.02 0.   0.   0.01 0.   0.02 0.  ]\n"
          ],
          "name": "stdout"
        }
      ]
    },
    {
      "cell_type": "code",
      "metadata": {
        "id": "DUE-1ItzVl2P"
      },
      "source": [
        "# calculate metrics for different thresholds\n",
        "prepmt_scores = [performance(y_true, y_prepmt >= t) for t in np.arange(0, 1.01, .01)]\n",
        "prepmt_scores = np.asarray(prepmt_scores)\n",
        "\n",
        "deepredmt_scores = [performance(y_true, y_deepredmt >= t) for t in np.arange(0, 1.01, .01)]\n",
        "deepredmt_scores = np.asarray(deepredmt_scores)"
      ],
      "execution_count": 11,
      "outputs": []
    },
    {
      "cell_type": "code",
      "metadata": {
        "colab": {
          "base_uri": "https://localhost:8080/",
          "height": 501
        },
        "id": "Bhdl0PjHU2Ct",
        "outputId": "690e0668-3a50-4cd3-fad5-3a69e8af80f0"
      },
      "source": [
        "# Plot results\n",
        "fig, ax = plt.subplots(figsize=(8, 8))\n",
        "\n",
        "# draw curves\n",
        "plt.plot(prepmt_scores[:,1], prepmt_scores[:,0], c='red')\n",
        "plt.plot(deepredmt_scores[:,1], deepredmt_scores[:,0], c='black')\n",
        "\n",
        "# show f1max\n",
        "nrow = np.argmax(prepmt_scores[:,2])\n",
        "plt.plot(prepmt_scores[nrow,1], prepmt_scores[nrow,0], 'ro', c='red')\n",
        "\n",
        "nrow = np.argmax(deepredmt_scores[:,2])\n",
        "plt.plot(deepredmt_scores[nrow,1], deepredmt_scores[nrow,0], 'ro', c='black')\n",
        "\n",
        "plt.xlabel('Recall')\n",
        "plt.ylabel('Precision')\n",
        "ax.set_xlim([0, 1])\n",
        "ax.set_ylim([0, 1])\n",
        "plt.grid(True)\n",
        "\n",
        "plt.show()"
      ],
      "execution_count": 12,
      "outputs": [
        {
          "output_type": "display_data",
          "data": {
            "image/png": "[encoded data removed]",
            "text/plain": [
              "<Figure size 576x576 with 1 Axes>"
            ]
          },
          "metadata": {
            "tags": [],
            "needs_background": "light"
          }
        }
      ]
    }
  ]
}