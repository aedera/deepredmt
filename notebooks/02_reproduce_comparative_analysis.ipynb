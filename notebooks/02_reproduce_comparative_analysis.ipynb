{
  "nbformat": 4,
  "nbformat_minor": 0,
  "metadata": {
    "colab": {
      "name": "02_reproduce_comparative_analysis.ipynb",
      "provenance": [],
      "collapsed_sections": []
    },
    "kernelspec": {
      "name": "python3",
      "display_name": "Python 3"
    },
    "language_info": {
      "name": "python"
    }
  },
  "cells": [
    {
      "cell_type": "markdown",
      "metadata": {
        "id": "jYOS34CbTGyp"
      },
      "source": [
        "# Predict C-to-U editing sites from nucleotide windows\n",
        "\n"
      ]
    },
    {
      "cell_type": "markdown",
      "metadata": {
        "id": "gESQ0jraTMxm"
      },
      "source": [
        "## Environment"
      ]
    },
    {
      "cell_type": "code",
      "metadata": {
        "id": "fFfFHpENpbJa"
      },
      "source": [
        "import numpy as np\n",
        "import sklearn.metrics\n",
        "\n",
        "import matplotlib.pyplot as plt\n",
        "import sklearn.metrics as metrics"
      ],
      "execution_count": 1,
      "outputs": []
    },
    {
      "cell_type": "markdown",
      "metadata": {
        "id": "Kcz6jgHPTQM1"
      },
      "source": [
        "## Deepred-Mt installation"
      ]
    },
    {
      "cell_type": "code",
      "metadata": {
        "colab": {
          "base_uri": "https://localhost:8080/"
        },
        "id": "ZD-2nT2rqdwL",
        "outputId": "6863a47b-2b2b-4102-b1f8-b9183c9fd346"
      },
      "source": [
        "!pip install -U \"deepredmt @ git+https://github.com/aedera/deepredmt.git\" > /dev/null"
      ],
      "execution_count": 2,
      "outputs": [
        {
          "output_type": "stream",
          "text": [
            "  Running command git clone -q https://github.com/aedera/deepredmt.git /tmp/pip-install-lzgghqjc/deepredmt\n"
          ],
          "name": "stdout"
        }
      ]
    },
    {
      "cell_type": "markdown",
      "metadata": {
        "id": "jlSV5kcQTbDN"
      },
      "source": [
        "## Make predictions"
      ]
    },
    {
      "cell_type": "markdown",
      "metadata": {
        "id": "WnqJ_RjbTcYz"
      },
      "source": [
        "To make predictions, we will use the nucleotide windows available in the data used to train Deepred-Mt."
      ]
    },
    {
      "cell_type": "code",
      "metadata": {
        "colab": {
          "base_uri": "https://localhost:8080/"
        },
        "id": "Xz0OQHrvqfXC",
        "outputId": "175a2a7e-384e-4de9-f89a-65b85723de09"
      },
      "source": [
        "!wget https://raw.githubusercontent.com/aedera/deepredmt/main/data/training-data.tsv.gz"
      ],
      "execution_count": 3,
      "outputs": [
        {
          "output_type": "stream",
          "text": [
            "--2021-05-09 20:21:04--  https://raw.githubusercontent.com/aedera/deepredmt/main/data/training-data.tsv.gz\n",
            "Resolving raw.githubusercontent.com (raw.githubusercontent.com)... 185.199.108.133, 185.199.109.133, 185.199.110.133, ...\n",
            "Connecting to raw.githubusercontent.com (raw.githubusercontent.com)|185.199.108.133|:443... connected.\n",
            "HTTP request sent, awaiting response... 200 OK\n",
            "Length: 2715985 (2.6M) [application/octet-stream]\n",
            "Saving to: ‘training-data.tsv.gz’\n",
            "\n",
            "\rtraining-data.tsv.g   0%[                    ]       0  --.-KB/s               \rtraining-data.tsv.g 100%[===================>]   2.59M  --.-KB/s    in 0.09s   \n",
            "\n",
            "2021-05-09 20:21:04 (30.4 MB/s) - ‘training-data.tsv.gz’ saved [2715985/2715985]\n",
            "\n"
          ],
          "name": "stdout"
        }
      ]
    },
    {
      "cell_type": "markdown",
      "metadata": {
        "id": "c8Nt2sH2TnIr"
      },
      "source": [
        "As it is explained in the [README](https://github.com/aedera/deepredmt#datasets), these data is composed of ten fields."
      ]
    },
    {
      "cell_type": "code",
      "metadata": {
        "colab": {
          "base_uri": "https://localhost:8080/"
        },
        "id": "1Vs22UjaL7-W",
        "outputId": "2def49de-1475-4151-893c-21cb565a1db2"
      },
      "source": [
        "!zcat training-data.tsv.gz | shuf | head -10 | column -t"
      ],
      "execution_count": 4,
      "outputs": [
        {
          "output_type": "stream",
          "text": [
            "Nelumbo_nucifera!rps13!265       rps13!265   1  TAACTAAGTATCAGATCGAC  C  AAATTGAACAAATGATAGGT  CAA  0.0134  0  0.00\n",
            "Helianthus_annuus!mttB!127       mttB!172    1  CTCATATATECTATGAATTT  E  ATTTCGCAEEGGAAACTATT  EAT  0.7500  1  0.12\n",
            "Rhazya_stricta!ccmFn!974         ccmFn!1094  2  GGGCTTTGGCTTATGTAGAT  C  AAAAATGATGAATGAGATTG  TCA  0.0055  0  0.00\n",
            "Daucus_carota!ccmC!676           ccmC!709    1  CATCAATACATGTTECTATG  C  ECATTCCAATCTTGTCTAAC  CEC  0.0016  0  0.00\n",
            "Nelumbo_nucifera!rpl10!547       rpl10!580   1  ATCTTTGTTTCGTGTGTTCC  C  GGGAGGAATTCGATCTCTTA  CGG  0.0056  0  0.00\n",
            "Beta_vulgaris!ccmFc!886          ccmFc!1063  1  TGTCTAACACAAAGAAGATA  C  AGTTCACTCAACGATTGCCT  CAG  0.0000  0  0.00\n",
            "Allium_cepa!nad6!878             nad6!977    2  CGCTGCCTACAGACGCTTCG  C  TTCCCCCCTACCTTTGAAAA  GCT  0.0000  0  0.00\n",
            "Beta_vulgaris!ccmFc!1231         ccmFc!1471  1  GCACGACTGAAGTGGCTATC  C  ATACAAATCEATTTACGGAT  CAT  0.0167  0  0.00\n",
            "Oryza_sativa!rps02!1522          rps02!2071  1  ATCCCCTTAGTTTTCAGGAT  C  TTATACAATTTTGGATGGCA  CTT  0.0004  0  0.00\n",
            "Physcomitrella_patens!rps07!803  rps07!806   2  TCAAGCCAATCGTAGTTTTT  C  GCATTATAGATGGTGGTAAA  TCG  0.0005  0  0.00\n"
          ],
          "name": "stdout"
        }
      ]
    },
    {
      "cell_type": "markdown",
      "metadata": {
        "id": "OhPE8QN5T1AE"
      },
      "source": [
        "From these data, we will only use the nucleotide windows with either cytidines (C) or editing sites (E) in their center positions (field #5)."
      ]
    },
    {
      "cell_type": "code",
      "metadata": {
        "colab": {
          "base_uri": "https://localhost:8080/"
        },
        "id": "wRh-jrWwL_WG",
        "outputId": "02b8da52-6e1d-4c15-94a7-1df0ee2b0426"
      },
      "source": [
        "!zcat training-data.tsv.gz | \\\n",
        "  awk -F$'\\t' '($$5 == \"C\" || $$5 == \"E\")' > reduced-data.tsv\n",
        "  \n",
        "!shuf reduced-data.tsv | head -10 | column -t"
      ],
      "execution_count": 5,
      "outputs": [
        {
          "output_type": "stream",
          "text": [
            "Ginkgo_biloba!rps03!316           rps03!316  1  TTCCTAAAAGGACATTEATT  C  ATTTATETCTTCCCCGTCGA  CAT  0.0066  0  0.00\n",
            "Physcomitrella_patens!ccmB!488    ccmB!602   2  AAATCTTACCACTTTACCCA  C  TCTATTACCCTTAATCATTT  ACT  0.0000  0  0.00\n",
            "Liriodendron_tulipifera!nad3!162  nad3!273   3  AGTCEGCTAGTTTCTTTGAT  C  EEACTCGGTGTTCCTTTTCE  ATC  0.0047  0  0.00\n",
            "Gossypium_hirsutum!atp8!545       atp8!602   2  CATAATGCTAATCCATGTTC  E  ACACGGCCAAGGAAGCATTT  CEA  0.9738  1  0.75\n",
            "Gossypium_hirsutum!mttB!671       mttB!716   2  TGTGATCEGTTTGCEAGAAC  E  AAGGGGTCTTTCTGTGGAAA  CEA  0.9461  1  0.50\n",
            "Liriodendron_tulipifera!matR!722  matR!818   2  GAAAAAGCCTTTCGTTTTCC  C  CCCTTCGTCGGCCCTTGCCA  CCC  0.0147  0  0.00\n",
            "Daucus_carota!nad5-1!149          nad5!149   2  CCTGCTCGGTAGTTCCGTAG  C  AGGTTTTTTCGGACGTTTTC  GCA  0.0000  0  0.00\n",
            "Arabidopsis_thaliana!atp1!741     atp1!753   3  GTAGCGATTGGACAGAAACG  C  TCGACTGTGGGACAATTAAT  CGC  0.0007  0  0.00\n",
            "Silene_conica!nad2!568            nad2!571   1  ATGTGATCGCAGCATCAAAA  C  GAAAGTCTGAATTTTCTACG  CGA  0.0000  0  0.00\n",
            "Phoenix_dactylifera!matR!1783     matR!2110  1  GCGACGGAGACATAGTAAAT  E  GGTECGCGGGCATCGCAATA  EGG  0.7813  1  1.00\n"
          ],
          "name": "stdout"
        }
      ]
    },
    {
      "cell_type": "markdown",
      "metadata": {
        "id": "45gsKN1ZdAkL"
      },
      "source": [
        "From the reduced data, we will extract the nucleotide windows (fields #4, #5, and #6). "
      ]
    },
    {
      "cell_type": "code",
      "metadata": {
        "colab": {
          "base_uri": "https://localhost:8080/"
        },
        "id": "kbdaFkJlcqne",
        "outputId": "edf91660-b0ea-42c7-87ff-d216853016a6"
      },
      "source": [
        "!cat reduced-data.tsv | \\\n",
        "  cut -f4,5,6 | \\\n",
        "  tr -d '\\t' > wins.tsv\n",
        "\n",
        "!shuf wins.tsv | head -10 | column -t"
      ],
      "execution_count": 6,
      "outputs": [
        {
          "output_type": "stream",
          "text": [
            "GTACACATTCCGACGATTGGCCGAGCGGATAAGTCAACTTC\n",
            "CTTGGGCTCAAATAAGGGGTCTGTCAGTAACCTAGACCTAG\n",
            "GCAGCCGAACCTTTACAACTCTCATTTCAAGACGCCGCTAC\n",
            "ATEAAAAGGAAGAGAAGAATEAAAAGGATEGAACTACCTAC\n",
            "TAGTACTCCTTGAGCTAATCECTEATTGTTTTCGTGCATTA\n",
            "AGGTGTATATTCTCATTCTGCCTGGATTCGGTATCATAAGT\n",
            "CTCAACACTGAAATATGCCECAAACTGAAAAAACGACGGCC\n",
            "GTTTTTTGATACACCTAGGACATGGATTTTATATGAACCAA\n",
            "AGGAGGACACTGGGCGGGATCTATCAGCAGCGAATTECCEA\n",
            "CCTTAGCCCTGTCCTATCATCTGTATAATGGAGTTCGTCAT\n"
          ],
          "name": "stdout"
        }
      ]
    },
    {
      "cell_type": "markdown",
      "metadata": {
        "id": "dFsOTB7WUCYE"
      },
      "source": [
        "Now, we can execute Deepred-Mt using the file `training-dataset.tsv` as input."
      ]
    },
    {
      "cell_type": "code",
      "metadata": {
        "id": "dXXNeUaDMpYB",
        "colab": {
          "base_uri": "https://localhost:8080/"
        },
        "outputId": "e6d14bda-a6bc-4e0c-da55-8de8cb137b07"
      },
      "source": [
        "!deepredmt wins.tsv > deepredmt-pred.tsv"
      ],
      "execution_count": 7,
      "outputs": [
        {
          "output_type": "stream",
          "text": [
            "2021-05-09 20:21:06.068061: I tensorflow/stream_executor/platform/default/dso_loader.cc:49] Successfully opened dynamic library libcudart.so.11.0\n",
            "2021-05-09 20:21:10.056833: I tensorflow/compiler/jit/xla_cpu_device.cc:41] Not creating XLA devices, tf_xla_enable_xla_devices not set\n",
            "2021-05-09 20:21:10.093697: I tensorflow/stream_executor/platform/default/dso_loader.cc:49] Successfully opened dynamic library libcuda.so.1\n",
            "2021-05-09 20:21:10.168432: E tensorflow/stream_executor/cuda/cuda_driver.cc:328] failed call to cuInit: CUDA_ERROR_NO_DEVICE: no CUDA-capable device is detected\n",
            "2021-05-09 20:21:10.168500: I tensorflow/stream_executor/cuda/cuda_diagnostics.cc:156] kernel driver does not appear to be running on this host (5de69d93a708): /proc/driver/nvidia/version does not exist\n",
            "2021-05-09 20:21:10.169321: I tensorflow/compiler/jit/xla_gpu_device.cc:99] Not creating XLA devices, tf_xla_enable_xla_devices not set\n",
            "2021-05-09 20:21:17.401583: I tensorflow/compiler/mlir/mlir_graph_optimization_pass.cc:116] None of the MLIR optimization passes are enabled (registered 2)\n",
            "2021-05-09 20:21:17.412918: I tensorflow/core/platform/profile_utils/cpu_utils.cc:112] CPU Frequency: 2299995000 Hz\n"
          ],
          "name": "stdout"
        }
      ]
    },
    {
      "cell_type": "markdown",
      "metadata": {
        "id": "1dzoUohXUK_H"
      },
      "source": [
        "The output file `deepredmt-pred.tsv` contains the Deepred-Mt predictions."
      ]
    },
    {
      "cell_type": "code",
      "metadata": {
        "colab": {
          "base_uri": "https://localhost:8080/"
        },
        "id": "duq1RmeRMR_0",
        "outputId": "e6c40e31-4db5-47a2-9ea8-b94e2c6e618f"
      },
      "source": [
        "!head -10 deepredmt-pred.tsv | column -t"
      ],
      "execution_count": 8,
      "outputs": [
        {
          "output_type": "stream",
          "text": [
            "0.00\n",
            "0.00\n",
            "0.00\n",
            "0.00\n",
            "0.00\n",
            "0.00\n",
            "0.00\n",
            "0.00\n",
            "0.00\n",
            "0.00\n"
          ],
          "name": "stdout"
        }
      ]
    },
    {
      "cell_type": "markdown",
      "metadata": {
        "id": "RAycy4RnMSdr"
      },
      "source": [
        "To facilitate downstream analyses, we can add these predictions as a new last column in the original data."
      ]
    },
    {
      "cell_type": "code",
      "metadata": {
        "colab": {
          "base_uri": "https://localhost:8080/"
        },
        "id": "y58A7yPyQuZG",
        "outputId": "c7519fa3-e1cc-4c8b-8df2-1d26f46f4d33"
      },
      "source": [
        "!paste reduced-data.tsv deepredmt-pred.tsv > all-wins.tsv\n",
        "!head -10 all-wins.tsv | column -t"
      ],
      "execution_count": 9,
      "outputs": [
        {
          "output_type": "stream",
          "text": [
            "Allium_cepa!atp1!1002  atp1!1020  3  GCTTTCCCTGGGGATGTTTT  C  TATTTACATTCCCGTCTCTT  TTC  0.0011  0  0.00  0.00\n",
            "Allium_cepa!atp1!1009  atp1!1027  1  CTGGGGATGTTTTCTATTTA  C  ATTCCCGTCTCTTAGAAAGA  CAT  0.0002  0  0.00  0.00\n",
            "Allium_cepa!atp1!1013  atp1!1031  2  GGATGTTTTCTATTTACATT  C  CCGTCTCTTAGAAAGAGCCG  TCC  0.0002  0  0.00  0.00\n",
            "Allium_cepa!atp1!1014  atp1!1032  3  GATGTTTTCTATTTACATTC  C  CGTCTCTTAGAAAGAGCCGC  TCC  0.0010  0  0.00  0.00\n",
            "Allium_cepa!atp1!1015  atp1!1033  1  ATGTTTTCTATTTACATTCC  C  GTCTCTTAGAAAGAGCCGCT  CGT  0.0000  0  0.00  0.00\n",
            "Allium_cepa!atp1!1018  atp1!1036  1  TTTTCTATTTACATTCCCGT  C  TCTTAGAAAGAGCCGCTAAA  CTC  0.0002  0  0.00  0.00\n",
            "Allium_cepa!atp1!1020  atp1!1038  3  TTCTATTTACATTCCCGTCT  C  TTAGAAAGAGCCGCTAAACG  CTC  0.0018  0  0.00  0.00\n",
            "Allium_cepa!atp1!1031  atp1!1049  2  TTCCCGTCTCTTAGAAAGAG  C  CGCTAAACGATCGGACCAGA  GCC  0.0000  0  0.00  0.00\n",
            "Allium_cepa!atp1!1032  atp1!1050  3  TCCCGTCTCTTAGAAAGAGC  C  GCTAAACGATCGGACCAGAC  GCC  0.0000  0  0.00  0.00\n",
            "Allium_cepa!atp1!1034  atp1!1052  2  CCGTCTCTTAGAAAGAGCCG  C  TAAACGATCGGACCAGACAG  GCT  0.0000  0  0.00  0.00\n"
          ],
          "name": "stdout"
        }
      ]
    },
    {
      "cell_type": "markdown",
      "metadata": {
        "id": "vNPyaOsDUofg"
      },
      "source": [
        "## Comparing the predictive performance of PREP-Mt and Deepred-Mt"
      ]
    },
    {
      "cell_type": "markdown",
      "metadata": {
        "id": "oAHzVrniU4sT"
      },
      "source": [
        "Based on these predictions, we can compare the predicive performance of Deepred-Mt with that of [PREP-Mt](http://prep.unl.edu/), a state-of-the-art method to predict editing sites. To facilitate this comparison, we have already obtained the PREP-Mt predictions, which are available in the field #10 in the data used above.\n"
      ]
    },
    {
      "cell_type": "markdown",
      "metadata": {
        "id": "TPUo1VGZePMz"
      },
      "source": [
        "\n",
        "To measure the predictive performance, precision and recall are standard metrics often used when the classes are imbalanced. You can find more information regarding these metrics in other [notebook](https://colab.research.google.com/github/aedera/deepredmt/blob/main/notebooks/01_prediction_from_fasta.ipynb)."
      ]
    },
    {
      "cell_type": "code",
      "metadata": {
        "colab": {
          "base_uri": "https://localhost:8080/"
        },
        "id": "BoP-chxQUyfo",
        "outputId": "857d642a-f7ba-407a-8b73-e7303c52a595"
      },
      "source": [
        "# This command reads the columns 9, 10, 11 in the all-wins.tsv\n",
        "preds = np.loadtxt('all-wins.tsv', usecols=(8, 9, 10))\n",
        "y_true, y_prepmt, y_deepredmt = preds[:,0], preds[:,1], preds[:,2]\n",
        "\n",
        "print(y_true[0:10], y_prepmt[0:10], y_deepredmt[0:10])"
      ],
      "execution_count": 10,
      "outputs": [
        {
          "output_type": "stream",
          "text": [
            "[0. 0. 0. 0. 0. 0. 0. 0. 0. 0.] [0. 0. 0. 0. 0. 0. 0. 0. 0. 0.] [0. 0. 0. 0. 0. 0. 0. 0. 0. 0.]\n"
          ],
          "name": "stdout"
        }
      ]
    },
    {
      "cell_type": "code",
      "metadata": {
        "id": "DUE-1ItzVl2P"
      },
      "source": [
        "# calculate metrics for different thresholds\n",
        "prepmt_pre, prepmt_rec, _ = metrics.precision_recall_curve(y_true, y_prepmt)\n",
        "deepredmt_pre, deepredmt_rec, _ = metrics.precision_recall_curve(y_true, y_deepredmt)"
      ],
      "execution_count": 11,
      "outputs": []
    },
    {
      "cell_type": "code",
      "metadata": {
        "colab": {
          "base_uri": "https://localhost:8080/",
          "height": 501
        },
        "id": "Bhdl0PjHU2Ct",
        "outputId": "1a91b6ff-5071-41fa-bad0-80529400b448"
      },
      "source": [
        "# Plot results\n",
        "fig, ax = plt.subplots(figsize=(8, 8))\n",
        "\n",
        "# draw curves\n",
        "plt.plot(prepmt_pre, prepmt_rec, c='red')\n",
        "plt.plot(deepredmt_pre, deepredmt_rec, c='black')\n",
        "\n",
        "plt.xlabel('Recall')\n",
        "plt.ylabel('Precision')\n",
        "ax.set_xlim([0, 1])\n",
        "ax.set_ylim([0, 1])\n",
        "plt.grid(True)\n",
        "\n",
        "plt.show()"
      ],
      "execution_count": 12,
      "outputs": [
        {
          "output_type": "display_data",
          "data": {
            "image/png": "[encoded data removed]",
            "text/plain": [
              "<Figure size 576x576 with 1 Axes>"
            ]
          },
          "metadata": {
            "tags": [],
            "needs_background": "light"
          }
        }
      ]
    }
  ]
}