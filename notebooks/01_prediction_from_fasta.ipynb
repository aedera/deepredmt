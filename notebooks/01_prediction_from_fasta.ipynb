{
  "nbformat": 4,
  "nbformat_minor": 0,
  "metadata": {
    "colab": {
      "name": "01_prediction_from_fasta.ipynb",
      "provenance": []
    },
    "kernelspec": {
      "name": "python3",
      "display_name": "Python 3"
    },
    "language_info": {
      "name": "python"
    }
  },
  "cells": [
    {
      "cell_type": "markdown",
      "metadata": {
        "id": "yhn_l-c4HwYv"
      },
      "source": [
        "# Predict C-to-U editing sites from a fasta file"
      ]
    },
    {
      "cell_type": "markdown",
      "metadata": {
        "id": "N_pTYtlPH1PF"
      },
      "source": [
        "## Environment"
      ]
    },
    {
      "cell_type": "code",
      "metadata": {
        "id": "v9YXkj5v_gI_"
      },
      "source": [
        "import numpy as np\n",
        "import sklearn.metrics\n",
        "\n",
        "import matplotlib.pyplot as plt"
      ],
      "execution_count": 1,
      "outputs": []
    },
    {
      "cell_type": "markdown",
      "metadata": {
        "id": "lgoYWlAPH3bs"
      },
      "source": [
        "## Deepred-Mt installation"
      ]
    },
    {
      "cell_type": "code",
      "metadata": {
        "colab": {
          "base_uri": "https://localhost:8080/"
        },
        "id": "SSE-8E8L8q9T",
        "outputId": "06062f0f-f938-45de-f20d-41b52d57f731"
      },
      "source": [
        "!pip install -U \"deepredmt @ git+https://github.com/aedera/deepredmt.git\" > /dev/null"
      ],
      "execution_count": 2,
      "outputs": [
        {
          "output_type": "stream",
          "text": [
            "  Running command git clone -q https://github.com/aedera/deepredmt.git /tmp/pip-install-wuqs3v28/deepredmt\n"
          ],
          "name": "stdout"
        }
      ]
    },
    {
      "cell_type": "markdown",
      "metadata": {
        "id": "q7ODYWWrH6J-"
      },
      "source": [
        "## Make predictions"
      ]
    },
    {
      "cell_type": "markdown",
      "metadata": {
        "id": "tgzdmS0rICeE"
      },
      "source": [
        "We will make predictions using a fasta file containing the sequences of the mitochondrial protein-coding genes of a flowering plant called *Lophophytum mirabile*."
      ]
    },
    {
      "cell_type": "code",
      "metadata": {
        "colab": {
          "base_uri": "https://localhost:8080/"
        },
        "id": "-oJkWqdu87Pw",
        "outputId": "1a672d56-6eb1-45dd-b2d5-049cc4493720"
      },
      "source": [
        "!wget https://raw.githubusercontent.com/aedera/deepredmt/main/fasta/lopho.fas"
      ],
      "execution_count": 3,
      "outputs": [
        {
          "output_type": "stream",
          "text": [
            "--2021-04-22 12:26:41--  https://raw.githubusercontent.com/aedera/deepredmt/main/fasta/lopho.fas\n",
            "Resolving raw.githubusercontent.com (raw.githubusercontent.com)... 185.199.111.133, 185.199.108.133, 185.199.110.133, ...\n",
            "Connecting to raw.githubusercontent.com (raw.githubusercontent.com)|185.199.111.133|:443... connected.\n",
            "HTTP request sent, awaiting response... 200 OK\n",
            "Length: 32597 (32K) [text/plain]\n",
            "Saving to: ‘lopho.fas’\n",
            "\n",
            "\rlopho.fas             0%[                    ]       0  --.-KB/s               \rlopho.fas           100%[===================>]  31.83K  --.-KB/s    in 0.002s  \n",
            "\n",
            "2021-04-22 12:26:41 (17.2 MB/s) - ‘lopho.fas’ saved [32597/32597]\n",
            "\n"
          ],
          "name": "stdout"
        }
      ]
    },
    {
      "cell_type": "markdown",
      "metadata": {
        "id": "Fx-m1ipJIQA-"
      },
      "source": [
        "Now, we can call Deepred-Mt passing as argument the downloaded fasta file `lopho.fas`."
      ]
    },
    {
      "cell_type": "code",
      "metadata": {
        "id": "RsODOw1d9BTr"
      },
      "source": [
        "!deepredmt lopho.fas > lopho.pred"
      ],
      "execution_count": 4,
      "outputs": []
    },
    {
      "cell_type": "markdown",
      "metadata": {
        "id": "VxgYXHCIIfYa"
      },
      "source": [
        "The above command stores the output of Deepred-Mt in a file named `lopho.pred`. We can inspect the format of this output file by taking ten random predictions."
      ]
    },
    {
      "cell_type": "code",
      "metadata": {
        "colab": {
          "base_uri": "https://localhost:8080/"
        },
        "id": "0TFazCmo-KAN",
        "outputId": "7555d839-5fcd-4dc8-81ab-93dadca39fa8"
      },
      "source": [
        "!shuf lopho.pred | head -10 | column -t"
      ],
      "execution_count": 5,
      "outputs": [
        {
          "output_type": "stream",
          "text": [
            "nad4!890           AATATATACTTCCTEGACEA  C  TTEAAGACAGATCGATCTTA  0.000\n",
            "rpl2!214           ATCGTTCTTCTCGGATCGCT  C  EAGTACGATGGGGACTAGGC  0.001\n",
            "cob!984            TCAAGTTTTCGCCCTATTEA  C  CAAGGAATATTTTGGTTACT  0.001\n",
            "ccmfn!1287         GGCTGGTGGTTTEGGGATCC  C  GTAGAAAATGCTTCTTTTAT  0.005\n",
            "cob!975            GTGCGTAGTTCAAGTTTTCG  C  CCTATTEACCAAGGAATATT  0.002\n",
            "nad1!544           AGCAGATATGGTEEGGTATT  C  CCTTGTTCCCTGTATTGGTT  0.000\n",
            "KU992338_rps4!229  AGATGCACAGAGGAAGAGAA  C  GAACTTCATATATCCCTTTT  0.000\n",
            "nad7!917           GAAACTATCCATGGAATCCT  E  AATTCACCATTTTGAACTTT  0.999\n",
            "cox1!1538          AAGTCCTCCAGCTTTTCATA  C  TTTTGGAGAACTGCCAGCTA  0.000\n",
            "rps14!202          ACCGATGTATTTCCACGGGT  C  GCCCTEGTTCCGTATATGAG  0.009\n"
          ],
          "name": "stdout"
        }
      ]
    },
    {
      "cell_type": "markdown",
      "metadata": {
        "id": "KxUKoriqPIkU"
      },
      "source": [
        "The output file has five columns:\n",
        "\n",
        "\n",
        "1.   Sequence name and position: this value of this column contains two fields delimited by '!': the first field is the name of the sequence, as appeared in the fasta file, whereas the second field is the sequence target position used for the prediction.\n",
        "\n",
        "The following three columns shows the nucleotides extracted around the target position to make predictions:\n",
        "\n",
        "2.   Upstream nucleotides: 20 base pairs upstream of the target position.\n",
        "3.   Nucleotide in the target position: Deepred-Mt scans for positions containing cytidines represented by either 'C' or 'E', as explained below.\n",
        "4.   Downstream nucleotides: 20 base pairs downstream of the target position.\n",
        "\n",
        "Finally,\n",
        "\n",
        "5.   Prediction score: a number between $[0, 1]$ scoring if the center position is an editing site.\n"
      ]
    },
    {
      "cell_type": "markdown",
      "metadata": {
        "id": "sG197r1WJFUx"
      },
      "source": [
        "## Analyze predictive performance"
      ]
    },
    {
      "cell_type": "markdown",
      "metadata": {
        "id": "L6lOyJReJvYk"
      },
      "source": [
        "To evaluate the predictive performance of Deepred-Mt, we can use the C-to-U editing sites previously identified with [deep RNA sequencing](https://doi.org/10.1111/nph.16926) for the mitochondrial protein-coding gene sequences of *Lophophytum mirabile*. These identified sites were already annotated in the downloaded fasta file `lopho.pred` as a fifth nucleotide 'E'. Since Deepred-Mt treats such nucleotides as cytidines, we can compare the predictions with these identifications.\n",
        " "
      ]
    },
    {
      "cell_type": "markdown",
      "metadata": {
        "id": "_5UsFze7Qgk1"
      },
      "source": [
        "For this comparision analysis, the following command takes the central positions and their corresponding scores, replacing central positions for zero or one when they are 'C' or 'E', respectively."
      ]
    },
    {
      "cell_type": "code",
      "metadata": {
        "colab": {
          "base_uri": "https://localhost:8080/"
        },
        "id": "h37iyvvAEYGs",
        "outputId": "cf440c9c-1e81-4582-acfa-9959f60d79b1"
      },
      "source": [
        "!cut -f3,5 lopho.pred | sed 's/C/0/g' | sed 's/E/1/g' > lopho.parsed_pred\n",
        "!head -10 lopho.parsed_pred"
      ],
      "execution_count": 6,
      "outputs": [
        {
          "output_type": "stream",
          "text": [
            "1\t0.003\n",
            "0\t0.024\n",
            "0\t0.005\n",
            "0\t0.000\n",
            "0\t0.014\n",
            "0\t0.000\n",
            "0\t0.000\n",
            "0\t0.000\n",
            "0\t0.000\n",
            "0\t0.000\n"
          ],
          "name": "stdout"
        }
      ]
    },
    {
      "cell_type": "markdown",
      "metadata": {
        "id": "qoPBMBgiRBWd"
      },
      "source": [
        "To measure the predictive performance, precision and recall are standard metrics often used when the classes are imbalanced.\n",
        "\n",
        "Precision is defined as the number of true positives (tp) over the number of true positives plus the number of false positives (fp):\n",
        "\n",
        "$\\text{pr}=\\frac{tp}{tp+fp}$\n",
        "\n",
        "Recall is defined as the number of true positives over the number of true positives plus the number of false negatives (fn):\n",
        "\n",
        "$\\text{re}=\\frac{tp}{tp+fn}$\n",
        "\n",
        "To combine both metrics in a single value, the harmonic mean or $F_1$ score of precision and recall is often used:\n",
        "\n",
        "$F_1=2\\frac{\\text{pr} \\cdot \\text{re}}{\\text{pr} + \\text{re}}$"
      ]
    },
    {
      "cell_type": "markdown",
      "metadata": {
        "id": "D_JHMzYGbzxr"
      },
      "source": [
        "The following python code calculates the precision-recall of Deepred-Mt for different thresholds, used to define scores as positive predictions. "
      ]
    },
    {
      "cell_type": "code",
      "metadata": {
        "id": "sL-n5izaEl-c"
      },
      "source": [
        "def performance(y_true, y_pred):                                                                                                                                                   \n",
        "    \"\"\"Calculate recall, precision, and F1.\"\"\"\n",
        "    pr = sklearn.metrics.precision_score(y_true, y_pred)\n",
        "    re = sklearn.metrics.recall_score(y_true, y_pred)\n",
        "    F1 = sklearn.metrics.f1_score(y_true, y_pred)\n",
        "\n",
        "    return pr, re, F1 "
      ],
      "execution_count": 7,
      "outputs": []
    },
    {
      "cell_type": "code",
      "metadata": {
        "colab": {
          "base_uri": "https://localhost:8080/"
        },
        "id": "LVOUdPlCE8Pn",
        "outputId": "e44dcf80-0bc7-476e-b7f4-16e7dfe11248"
      },
      "source": [
        "# This command reads the parsed prediction file\n",
        "preds = np.loadtxt('lopho.parsed_pred')\n",
        "y_true, y_pred = preds[:,0], preds[:,1] # identification and predictions\n",
        "\n",
        "print(y_true[0:10], y_pred[0:10])"
      ],
      "execution_count": 8,
      "outputs": [
        {
          "output_type": "stream",
          "text": [
            "[1. 0. 0. 0. 0. 0. 0. 0. 0. 0.] [0.003 0.024 0.005 0.    0.014 0.    0.    0.    0.    0.   ]\n"
          ],
          "name": "stdout"
        }
      ]
    },
    {
      "cell_type": "code",
      "metadata": {
        "id": "HPP5rM1feA6o"
      },
      "source": [
        "# calculate metrics for different thresholds\n",
        "scores = [performance(y_true, y_pred >= t) for t in np.arange(0, 1.01, .01)]\n",
        "scores = np.asarray(scores)"
      ],
      "execution_count": 9,
      "outputs": []
    },
    {
      "cell_type": "code",
      "metadata": {
        "colab": {
          "base_uri": "https://localhost:8080/",
          "height": 501
        },
        "id": "Xjl_uoIMFsIX",
        "outputId": "1ae6dc22-7a7c-4f00-942a-624dd7dce590"
      },
      "source": [
        "# Plot results\n",
        "fig, ax = plt.subplots(figsize=(8, 8))\n",
        "plt.plot(scores[:,1], scores[:,0], c='black')\n",
        "\n",
        "# show f1max\n",
        "nrow = np.argmax(scores[:,2])\n",
        "plt.plot(scores[nrow,1], scores[nrow,0], 'ro', c='black')\n",
        "\n",
        "plt.xlabel('Recall')\n",
        "plt.ylabel('Precision')\n",
        "ax.set_xlim([0, 1])\n",
        "ax.set_ylim([0, 1])\n",
        "plt.grid(True)\n",
        "\n",
        "plt.show()"
      ],
      "execution_count": 10,
      "outputs": [
        {
          "output_type": "display_data",
          "data": {
            "image/png": "[encoded data removed]",
            "text/plain": [
              "<Figure size 576x576 with 1 Axes>"
            ]
          },
          "metadata": {
            "tags": [],
            "needs_background": "light"
          }
        }
      ]
    }
  ]
}