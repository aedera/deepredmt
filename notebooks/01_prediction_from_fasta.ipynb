{
  "nbformat": 4,
  "nbformat_minor": 0,
  "metadata": {
    "colab": {
      "name": "01_prediction_from_fasta.ipynb",
      "provenance": []
    },
    "kernelspec": {
      "name": "python3",
      "display_name": "Python 3"
    },
    "language_info": {
      "name": "python"
    }
  },
  "cells": [
    {
      "cell_type": "markdown",
      "metadata": {
        "id": "yhn_l-c4HwYv"
      },
      "source": [
        "# Predict C-to-U editing sites from a FASTA file"
      ]
    },
    {
      "cell_type": "markdown",
      "metadata": {
        "id": "N_pTYtlPH1PF"
      },
      "source": [
        "## Environment"
      ]
    },
    {
      "cell_type": "code",
      "metadata": {
        "id": "v9YXkj5v_gI_"
      },
      "source": [
        "import numpy as np\n",
        "import sklearn.metrics\n",
        "\n",
        "import matplotlib.pyplot as plt\n",
        "import sklearn.metrics as metrics"
      ],
      "execution_count": 1,
      "outputs": []
    },
    {
      "cell_type": "markdown",
      "metadata": {
        "id": "lgoYWlAPH3bs"
      },
      "source": [
        "### Deepred-Mt installation"
      ]
    },
    {
      "cell_type": "code",
      "metadata": {
        "colab": {
          "base_uri": "https://localhost:8080/"
        },
        "id": "SSE-8E8L8q9T",
        "outputId": "fcf3f23b-a3a1-444b-e9d1-dece71b1ab13"
      },
      "source": [
        "!pip install -U \"deepredmt @ git+https://github.com/aedera/deepredmt.git\" > /dev/null"
      ],
      "execution_count": 2,
      "outputs": [
        {
          "output_type": "stream",
          "text": [
            "  Running command git clone -q https://github.com/aedera/deepredmt.git /tmp/pip-install-qmb9hdsn/deepredmt\n"
          ],
          "name": "stdout"
        }
      ]
    },
    {
      "cell_type": "markdown",
      "metadata": {
        "id": "q7ODYWWrH6J-"
      },
      "source": [
        "## Data"
      ]
    },
    {
      "cell_type": "markdown",
      "metadata": {
        "id": "tgzdmS0rICeE"
      },
      "source": [
        "To show how to use Deepred-Mt, we will download a FASTA file which contains sequences of mitochondrial protein-coding genes of a flowering plant."
      ]
    },
    {
      "cell_type": "code",
      "metadata": {
        "colab": {
          "base_uri": "https://localhost:8080/"
        },
        "id": "-oJkWqdu87Pw",
        "outputId": "6c83c8e9-bb1d-492e-abdd-4ef37d5b2133"
      },
      "source": [
        "!wget https://raw.githubusercontent.com/aedera/deepredmt/main/data/seqs.fas"
      ],
      "execution_count": 3,
      "outputs": [
        {
          "output_type": "stream",
          "text": [
            "--2021-05-21 15:51:44--  https://raw.githubusercontent.com/aedera/deepredmt/main/data/seqs.fas\n",
            "Resolving raw.githubusercontent.com (raw.githubusercontent.com)... 185.199.108.133, 185.199.109.133, 185.199.110.133, ...\n",
            "Connecting to raw.githubusercontent.com (raw.githubusercontent.com)|185.199.108.133|:443... connected.\n",
            "HTTP request sent, awaiting response... 200 OK\n",
            "Length: 32597 (32K) [text/plain]\n",
            "Saving to: ‘seqs.fas.5’\n",
            "\n",
            "\rseqs.fas.5            0%[                    ]       0  --.-KB/s               \rseqs.fas.5          100%[===================>]  31.83K  --.-KB/s    in 0s      \n",
            "\n",
            "2021-05-21 15:51:44 (93.6 MB/s) - ‘seqs.fas.5’ saved [32597/32597]\n",
            "\n"
          ],
          "name": "stdout"
        }
      ]
    },
    {
      "cell_type": "markdown",
      "metadata": {
        "id": "CZKElP2ekL4f"
      },
      "source": [
        "## Make predictions"
      ]
    },
    {
      "cell_type": "markdown",
      "metadata": {
        "id": "Fx-m1ipJIQA-"
      },
      "source": [
        "Now, we will use Deepred-Mt to predict C-to-U editing sites in our FASTA file."
      ]
    },
    {
      "cell_type": "code",
      "metadata": {
        "id": "RsODOw1d9BTr",
        "colab": {
          "base_uri": "https://localhost:8080/"
        },
        "outputId": "52f506f9-e32d-4781-8c3f-40f7271aa83e"
      },
      "source": [
        "!deepredmt seqs.fas > seqs.pred"
      ],
      "execution_count": 4,
      "outputs": [
        {
          "output_type": "stream",
          "text": [
            "2021-05-21 15:51:45.265085: I tensorflow/stream_executor/platform/default/dso_loader.cc:49] Successfully opened dynamic library libcudart.so.11.0\n",
            "2021-05-21 15:51:47.968558: I tensorflow/compiler/jit/xla_cpu_device.cc:41] Not creating XLA devices, tf_xla_enable_xla_devices not set\n",
            "2021-05-21 15:51:47.969736: I tensorflow/stream_executor/platform/default/dso_loader.cc:49] Successfully opened dynamic library libcuda.so.1\n",
            "2021-05-21 15:51:47.981946: E tensorflow/stream_executor/cuda/cuda_driver.cc:328] failed call to cuInit: CUDA_ERROR_NO_DEVICE: no CUDA-capable device is detected\n",
            "2021-05-21 15:51:47.982012: I tensorflow/stream_executor/cuda/cuda_diagnostics.cc:156] kernel driver does not appear to be running on this host (cd6c5ed00325): /proc/driver/nvidia/version does not exist\n",
            "2021-05-21 15:51:47.982626: I tensorflow/compiler/jit/xla_gpu_device.cc:99] Not creating XLA devices, tf_xla_enable_xla_devices not set\n",
            "2021-05-21 15:51:55.204728: I tensorflow/compiler/mlir/mlir_graph_optimization_pass.cc:116] None of the MLIR optimization passes are enabled (registered 2)\n",
            "2021-05-21 15:51:55.205244: I tensorflow/core/platform/profile_utils/cpu_utils.cc:112] CPU Frequency: 2199995000 Hz\n"
          ],
          "name": "stdout"
        }
      ]
    },
    {
      "cell_type": "markdown",
      "metadata": {
        "id": "VxgYXHCIIfYa"
      },
      "source": [
        "In this command, Deepred-Mt scans the input FASTA file for cytidines (Cs), or already annotated editing sites (Es). Next, for each C or E found, it calculates a prediction score by using their surrounding nucleotides.\n",
        "\n",
        "The output of Deepred-Mt is saved in a file named `seqs.pred`. We can inspect the format of this output file by taking ten random file entries."
      ]
    },
    {
      "cell_type": "code",
      "metadata": {
        "colab": {
          "base_uri": "https://localhost:8080/"
        },
        "id": "0TFazCmo-KAN",
        "outputId": "55c5f897-155e-4f23-e57a-10073a86c869"
      },
      "source": [
        "!shuf seqs.pred | head -10 | column -t"
      ],
      "execution_count": 5,
      "outputs": [
        {
          "output_type": "stream",
          "text": [
            "nad3!255           CCTTGGGCAGTCTCTCTCAA  C  AAGATTGATCEGTTTGGATE  0.001\n",
            "nad4!577           CTATTCTGTTGATTETTCTC  C  AAATAGGAACCACCGATTTA  0.003\n",
            "KU992338_rps4!727  GAATGAAGAGAAATTTTTAT  C  ATTTAAAATCCCTATTCTTA  0.365\n",
            "nad1!623           TCCATTTGATCTCCCAGAAG  C  GGAAGCTGAATEAGTTGCAG  0.002\n",
            "KU992338_rps4!739  ATTTTTATCATTTAAAATCC  C  TATTCTTATTAAAGAGAAGA  0.024\n",
            "KU992362_atp1!440  ACGTAAATCTGTGCACGAGC  C  TATGCAAACAGGGTTAAAAG  0.007\n",
            "nad1!742           GTCEATGCACATTGCTCTET  C  EAGGGGGTTGGCEGCCTATC  0.034\n",
            "ccmb!54            CATAAACAGATETTCECCTC  C  ACACEAATCACGAGTTTTTC  0.143\n",
            "KU992362_atp1!94   GGAAAGTGGATGAGATEGGT  C  GAGTGGTGTCCGTTGGAGAT  0.029\n",
            "nad2!1345          GGACATGGATTTTATATGAA  C  CCATGGATCGTGACAAGTCG  0.005\n"
          ],
          "name": "stdout"
        }
      ]
    },
    {
      "cell_type": "markdown",
      "metadata": {
        "id": "KxUKoriqPIkU"
      },
      "source": [
        "The output file has five columns:\n",
        "\n",
        "\n",
        "1.   Target identifier.\n",
        "2.   Nucleotides upstream of the target nucleotide.\n",
        "3.   Target nucleotide.\n",
        "4.   Nucleotides downstream of the target nucleotide.\n",
        "5.   Prediction score: a number between $[0, 1]$ scoring if the target nucleotide is edited. Higher scores indicate RNA editing.\n"
      ]
    },
    {
      "cell_type": "markdown",
      "metadata": {
        "id": "sG197r1WJFUx"
      },
      "source": [
        "## Analyze predictive performance"
      ]
    },
    {
      "cell_type": "markdown",
      "metadata": {
        "id": "L6lOyJReJvYk"
      },
      "source": [
        "To evaluate the predictive performance of Deepred-Mt, we will use the C-to-U editing sites previously identified for the sequences in the downloaded FASTA file. These identified sites are already annotated in the sequences as a fifth nucleotide 'E'.\n",
        " "
      ]
    },
    {
      "cell_type": "markdown",
      "metadata": {
        "id": "_5UsFze7Qgk1"
      },
      "source": [
        "For this evaluation, we will replace the target Cs and Es by 0s and 1s, respectively."
      ]
    },
    {
      "cell_type": "code",
      "metadata": {
        "colab": {
          "base_uri": "https://localhost:8080/"
        },
        "id": "h37iyvvAEYGs",
        "outputId": "2e80bee8-3227-4124-f056-a6c95c070ae7"
      },
      "source": [
        "!cut -f3,5 seqs.pred | sed 's/C/0/g' | sed 's/E/1/g' > seqs.parsed_pred\n",
        "!head -10 seqs.parsed_pred"
      ],
      "execution_count": 6,
      "outputs": [
        {
          "output_type": "stream",
          "text": [
            "1\t0.003\n",
            "0\t0.183\n",
            "0\t0.010\n",
            "0\t0.000\n",
            "0\t0.128\n",
            "0\t0.000\n",
            "0\t0.001\n",
            "0\t0.007\n",
            "0\t0.004\n",
            "0\t0.000\n"
          ],
          "name": "stdout"
        }
      ]
    },
    {
      "cell_type": "markdown",
      "metadata": {
        "id": "qoPBMBgiRBWd"
      },
      "source": [
        "To measure the predictive performance, we can use precision and recall, which are standard metrics often used in practice.\n",
        "\n",
        "Precision is defined as the number of true positives (tp) over the number of true positives plus the number of false positives (fp):\n",
        "\n",
        "$\\text{pr}=\\frac{tp}{tp+fp}$\n",
        "\n",
        "Recall is defined as the number of true positives over the number of true positives plus the number of false negatives (fn):\n",
        "\n",
        "$\\text{re}=\\frac{tp}{tp+fn}$"
      ]
    },
    {
      "cell_type": "markdown",
      "metadata": {
        "id": "D_JHMzYGbzxr"
      },
      "source": [
        "The following code calculates the precision-recall of Deepred-Mt for different thresholds, which are used to define scores as positive predictions. "
      ]
    },
    {
      "cell_type": "code",
      "metadata": {
        "id": "LVOUdPlCE8Pn"
      },
      "source": [
        "# Read file\n",
        "preds = np.loadtxt('seqs.parsed_pred')\n",
        "y_true, y_pred = preds[:,0], preds[:,1]\n",
        "\n",
        "pre, rec, _ = metrics.precision_recall_curve(y_true, y_pred)"
      ],
      "execution_count": 7,
      "outputs": []
    },
    {
      "cell_type": "markdown",
      "metadata": {
        "id": "07teUlcFmZEB"
      },
      "source": [
        "Now, we will plot the values of precision and recall."
      ]
    },
    {
      "cell_type": "code",
      "metadata": {
        "colab": {
          "base_uri": "https://localhost:8080/",
          "height": 501
        },
        "id": "Xjl_uoIMFsIX",
        "outputId": "c57cd565-7505-4f2d-bd3c-39376d9e749a"
      },
      "source": [
        "# Plot results\n",
        "fig, ax = plt.subplots(figsize=(8, 8))\n",
        "plt.plot(rec, pre, c='black', label='Deepred-Mt')\n",
        "\n",
        "plt.xlabel('Recall')\n",
        "plt.ylabel('Precision')\n",
        "\n",
        "ax.set_xlim([0, 1])\n",
        "ax.set_ylim([0, 1])\n",
        "\n",
        "plt.grid(True)\n",
        "plt.legend()\n",
        "\n",
        "plt.show()"
      ],
      "execution_count": 8,
      "outputs": [
        {
          "output_type": "display_data",
          "data": {
            "image/png": "[encoded data removed]",
            "text/plain": [
              "<Figure size 576x576 with 1 Axes>"
            ]
          },
          "metadata": {
            "tags": [],
            "needs_background": "light"
          }
        }
      ]
    }
  ]
}